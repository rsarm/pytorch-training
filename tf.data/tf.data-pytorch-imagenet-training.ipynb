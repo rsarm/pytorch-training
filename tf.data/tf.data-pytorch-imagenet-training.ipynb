{
 "cells": [
  {
   "cell_type": "markdown",
   "metadata": {},
   "source": [
    "# 4. `tf.data` input pipelines for PyTorch: CNN on ImageNet\n",
    "\n",
    "With ResNet50 and `batch_size=64` this gives a throughput of 222.69 images/sec. This is the same value can be obtained with [the synthetic benchmark](https://github.com/eth-cscs/pytorch-training/blob/master/cnn_synthetic_benchmark/cnn_distr.py).\n",
    "\n",
    "For `batch_size=64` the GPU memory is \\~14355MiB, which is the same memory used by [the synthetic benchmark](https://github.com/eth-cscs/pytorch-training/blob/master/cnn_synthetic_benchmark/cnn_distr.py) with the same `batch_size` (~14205MiB).\n",
    "\n",
    "With ResNet101 and `batch_size=64` this gives a throughput of \\~132.05 images/sec. [The synthetic benchmark](https://github.com/eth-cscs/pytorch-training/blob/master/cnn_synthetic_benchmark/cnn_distr.py) gives \\~113.46 images/sec. Both have similar GPU memory usage (~10635MiB).\n",
    "\n",
    "The idea used in this notebook comes from the Kaggle notebook [TF-DS for PyTorch](https://www.kaggle.com/hirotaka0122/tf-ds-for-pytorch)."
   ]
  },
  {
   "cell_type": "code",
   "execution_count": 1,
   "metadata": {},
   "outputs": [],
   "source": [
    "import glob\n",
    "import time\n",
    "import tensorflow as tf\n",
    "import tensorflow_datasets as tfds\n",
    "import torch.nn.functional as F\n",
    "import torch.optim as optim\n",
    "import torch.utils.data.distributed\n",
    "from torch.utils.data import DataLoader, Dataset\n",
    "from torchvision import models"
   ]
  },
  {
   "cell_type": "code",
   "execution_count": 2,
   "metadata": {},
   "outputs": [],
   "source": [
    "gpus = tf.config.list_physical_devices('GPU')\n",
    "for gpu in gpus:\n",
    "    tf.config.experimental.set_memory_growth(gpu, True)"
   ]
  },
  {
   "cell_type": "code",
   "execution_count": 3,
   "metadata": {},
   "outputs": [],
   "source": [
    "list_of_files = sorted(glob.glob('/scratch/snx3000/datasets/imagenet/ILSVRC2012_1k/train/*'))"
   ]
  },
  {
   "cell_type": "code",
   "execution_count": 4,
   "metadata": {},
   "outputs": [],
   "source": [
    "def decode(serialized_example):\n",
    "    \"\"\"Decode and resize\"\"\"\n",
    "    features = tf.io.parse_single_example(\n",
    "        serialized_example,\n",
    "        features={\n",
    "            'image/encoded': tf.io.FixedLenFeature([], tf.string),\n",
    "            'image/class/label': tf.io.FixedLenFeature([], tf.int64),\n",
    "        })\n",
    "    image = tf.image.decode_jpeg(features['image/encoded'], channels=3)\n",
    "    image = tf.image.resize_with_crop_or_pad(image, *(224, 224))\n",
    "    image = tf.transpose(image, (2, 0, 1)) # rgb channels to the front\n",
    "    image = tf.image.convert_image_dtype(image, dtype=tf.float32)\n",
    "    label = tf.cast(features['image/class/label'], tf.int64)\n",
    "    return image, label - 1"
   ]
  },
  {
   "cell_type": "code",
   "execution_count": 8,
   "metadata": {},
   "outputs": [],
   "source": [
    "batch_size = 64\n",
    "\n",
    "dataset = tf.data.TFRecordDataset(list_of_files)\n",
    "dataset = dataset.map(decode, num_parallel_calls=tf.data.AUTOTUNE)\n",
    "dataset = dataset.prefetch(tf.data.AUTOTUNE)\n",
    "dataset = dataset.batch(batch_size)"
   ]
  },
  {
   "cell_type": "code",
   "execution_count": 9,
   "metadata": {},
   "outputs": [],
   "source": [
    "dataset = dataset.take(50)\n",
    "dataset_np = tfds.as_numpy(dataset)"
   ]
  },
  {
   "cell_type": "code",
   "execution_count": 10,
   "metadata": {},
   "outputs": [],
   "source": [
    "device = 0\n",
    "model = models.resnet101()\n",
    "model.to(device);"
   ]
  },
  {
   "cell_type": "code",
   "execution_count": 11,
   "metadata": {},
   "outputs": [],
   "source": [
    "optimizer = optim.SGD(model.parameters(), lr=0.01)"
   ]
  },
  {
   "cell_type": "code",
   "execution_count": 12,
   "metadata": {},
   "outputs": [],
   "source": [
    "def benchmark_step(model, imgs, labels):\n",
    "    imgs = torch.tensor(imgs)\n",
    "    labels = torch.tensor(labels)\n",
    "    optimizer.zero_grad()\n",
    "    output = model(imgs.to(device))\n",
    "    loss = F.cross_entropy(output, labels.to(device))\n",
    "    loss.backward()\n",
    "    optimizer.step()"
   ]
  },
  {
   "cell_type": "code",
   "execution_count": 14,
   "metadata": {},
   "outputs": [
    {
     "name": "stdout",
     "output_type": "stream",
     "text": [
      " * throughput: 132.29 images/sec\n"
     ]
    }
   ],
   "source": [
    "t0 = time.time()\n",
    "for step, (imgs, labels) in enumerate(dataset_np):\n",
    "    benchmark_step(model, imgs, labels)\n",
    "\n",
    "dt = time.time() - t0\n",
    "imgs_sec = batch_size * (step + 1) / dt\n",
    "print(f' * throughput: {imgs_sec:.2f} images/sec')"
   ]
  }
 ],
 "metadata": {
  "kernelspec": {
   "display_name": "deepspeed",
   "language": "python",
   "name": "deepspeed"
  },
  "language_info": {
   "codemirror_mode": {
    "name": "ipython",
    "version": 3
   },
   "file_extension": ".py",
   "mimetype": "text/x-python",
   "name": "python",
   "nbconvert_exporter": "python",
   "pygments_lexer": "ipython3",
   "version": "3.8.5"
  }
 },
 "nbformat": 4,
 "nbformat_minor": 4
}
