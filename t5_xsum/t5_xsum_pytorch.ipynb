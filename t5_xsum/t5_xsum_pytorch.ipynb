{
 "cells": [
  {
   "cell_type": "markdown",
   "metadata": {},
   "source": [
    "# Text summarization with T5 on XSum\n",
    "\n",
    "We are going to fine-tune [T5 implemented by HuggingFace](https://huggingface.co/t5-small) for text summarization on the [Extreme Summarization (XSum)](https://huggingface.co/datasets/xsum) dataset.\n",
    "The data if composed by news articles and the corresponding summaries.\n",
    "\n",
    "This notebooks is based on the script [run_summarization_no_trainer.py](https://github.com/huggingface/transformers/blob/v4.12.5/examples/pytorch/summarization/run_summarization_no_trainer.py) from HuggingFace.\n",
    "\n",
    "We will be using the following model sizes available from HuggingFace\n",
    "\n",
    "| Variant                                     |   Parameters    |\n",
    "|:-------------------------------------------:|----------------:|\n",
    "| [T5-small](https://huggingface.co/t5-small) |    60,506,624   | \n",
    "| [T5-large](https://huggingface.co/t5-large) |   737,668,096   | \n",
    "| [T5-3b](https://huggingface.co/t5-3b)       | 2,851,598,336   | \n",
    "\n",
    "\n",
    "\n",
    "\n",
    "More info:\n",
    "* [T5 on HuggingFace docs](https://huggingface.co/transformers/model_doc/t5.html)"
   ]
  },
  {
   "cell_type": "code",
   "execution_count": 1,
   "metadata": {},
   "outputs": [],
   "source": [
    "import os\n",
    "import datasets\n",
    "import nltk\n",
    "import numpy as np\n",
    "import torch\n",
    "from datasets import load_dataset, load_metric\n",
    "from transformers import AdamW, AutoModelForSeq2SeqLM, AutoTokenizer, DataCollatorForSeq2Seq\n",
    "from torch.utils.data import DataLoader"
   ]
  },
  {
   "cell_type": "code",
   "execution_count": 2,
   "metadata": {},
   "outputs": [],
   "source": [
    "hf_model = 't5-3b'\n",
    "t5_cache = os.path.join(os.getcwd(), 'cache')"
   ]
  },
  {
   "cell_type": "code",
   "execution_count": 3,
   "metadata": {},
   "outputs": [],
   "source": [
    "tokenizer = AutoTokenizer.from_pretrained(\n",
    "    hf_model,\n",
    "    use_fast=True,\n",
    "    cache_dir=os.path.join(t5_cache, f'{hf_model}_tokenizer')\n",
    ")"
   ]
  },
  {
   "cell_type": "code",
   "execution_count": 3,
   "metadata": {},
   "outputs": [],
   "source": [
    "model = AutoModelForSeq2SeqLM.from_pretrained(\n",
    "    hf_model,\n",
    "    cache_dir=os.path.join(t5_cache, f'{hf_model}_model')\n",
    ")"
   ]
  },
  {
   "cell_type": "code",
   "execution_count": 4,
   "metadata": {},
   "outputs": [
    {
     "name": "stdout",
     "output_type": "stream",
     "text": [
      "\n",
      " 2,851,598,336 parameters\n",
      "\n"
     ]
    }
   ],
   "source": [
    "parameters = filter(lambda p: p.requires_grad, model.parameters())\n",
    "num_params = sum([np.prod(p.size()) for p in parameters])\n",
    "print(f'\\n {num_params:,} parameters\\n')\n",
    "parameters = filter(lambda p: p.requires_grad, model.parameters())"
   ]
  },
  {
   "cell_type": "code",
   "execution_count": 6,
   "metadata": {},
   "outputs": [
    {
     "name": "stderr",
     "output_type": "stream",
     "text": [
      "Using custom data configuration default\n",
      "Reusing dataset xsum (/users/sarafael/.cache/huggingface/datasets/xsum/default/1.2.0/4957825a982999fbf80bca0b342793b01b2611e021ef589fb7c6250b3577b499)\n"
     ]
    },
    {
     "data": {
      "application/vnd.jupyter.widget-view+json": {
       "model_id": "ccc300a17efc45b0894d5de1e1d6c2db",
       "version_major": 2,
       "version_minor": 0
      },
      "text/plain": [
       "  0%|          | 0/3 [00:00<?, ?it/s]"
      ]
     },
     "metadata": {},
     "output_type": "display_data"
    }
   ],
   "source": [
    "raw_datasets = load_dataset('xsum')"
   ]
  },
  {
   "cell_type": "code",
   "execution_count": 7,
   "metadata": {},
   "outputs": [],
   "source": [
    "max_source_length = 1024\n",
    "max_target_length = 128\n",
    "ignore_pad_token_for_loss = True\n",
    "padding = False            # else 'max_length'\n",
    "label_pad_token_id = -100  # else tokenizer.pad_token_id\n",
    "per_device_train_batch_size = 4\n",
    "per_device_eval_batch_size = 4"
   ]
  },
  {
   "cell_type": "code",
   "execution_count": 8,
   "metadata": {},
   "outputs": [],
   "source": [
    "def preprocess_function(examples, text_column='document',\n",
    "                        summary_column='summary', prefix='summarize: '):\n",
    "    inputs = examples[text_column]\n",
    "    targets = examples[summary_column]\n",
    "    inputs = [prefix + inp for inp in inputs]\n",
    "    model_inputs = tokenizer(inputs, max_length=max_source_length,\n",
    "                             padding=padding, truncation=True)\n",
    "\n",
    "    # Setup the tokenizer for targets\n",
    "    with tokenizer.as_target_tokenizer():\n",
    "        labels = tokenizer(targets, max_length=max_target_length,\n",
    "                           padding=padding, truncation=True)\n",
    "\n",
    "    # padding in the loss.\n",
    "    if padding == \"max_length\" and ignore_pad_token_for_loss:\n",
    "        labels[\"input_ids\"] = [\n",
    "            [(l if l != tokenizer.pad_token_id else -100)\n",
    "             for l in label] for label in labels[\"input_ids\"]\n",
    "        ]\n",
    "\n",
    "    model_inputs[\"labels\"] = labels[\"input_ids\"]\n",
    "    return model_inputs"
   ]
  },
  {
   "cell_type": "code",
   "execution_count": 9,
   "metadata": {},
   "outputs": [
    {
     "name": "stderr",
     "output_type": "stream",
     "text": [
      "Loading cached processed dataset at /users/sarafael/.cache/huggingface/datasets/xsum/default/1.2.0/4957825a982999fbf80bca0b342793b01b2611e021ef589fb7c6250b3577b499/cache-8909393d709d88b1.arrow\n",
      "Loading cached processed dataset at /users/sarafael/.cache/huggingface/datasets/xsum/default/1.2.0/4957825a982999fbf80bca0b342793b01b2611e021ef589fb7c6250b3577b499/cache-579c7d5bb0d337f2.arrow\n",
      "Loading cached processed dataset at /users/sarafael/.cache/huggingface/datasets/xsum/default/1.2.0/4957825a982999fbf80bca0b342793b01b2611e021ef589fb7c6250b3577b499/cache-24a96f003ada9700.arrow\n"
     ]
    }
   ],
   "source": [
    "data_collator = DataCollatorForSeq2Seq(\n",
    "    tokenizer,\n",
    "    model=model,\n",
    "    label_pad_token_id=label_pad_token_id\n",
    ")\n",
    "\n",
    "processed_datasets = raw_datasets.map(\n",
    "    preprocess_function,\n",
    "    batched=True,\n",
    "    remove_columns=raw_datasets[\"train\"].column_names,\n",
    "    desc=\"Running tokenizer on dataset\",\n",
    ")\n",
    "\n",
    "train_dataset = processed_datasets[\"train\"]\n",
    "eval_dataset = processed_datasets[\"validation\"]\n",
    "\n",
    "train_dataloader = DataLoader(\n",
    "    train_dataset,\n",
    "    shuffle=True,\n",
    "    collate_fn=data_collator,\n",
    "    batch_size=per_device_train_batch_size\n",
    ")\n",
    "\n",
    "eval_dataloader = DataLoader(\n",
    "    eval_dataset,\n",
    "    collate_fn=data_collator,\n",
    "    batch_size=per_device_eval_batch_size\n",
    ")"
   ]
  },
  {
   "cell_type": "code",
   "execution_count": 10,
   "metadata": {},
   "outputs": [],
   "source": [
    "weight_decay = 0.0\n",
    "no_decay = [\"bias\", \"LayerNorm.weight\"]\n",
    "optimizer_grouped_parameters = [\n",
    "    {\n",
    "        \"params\": [p for n, p in model.named_parameters()\n",
    "                   if not any(nd in n for nd in no_decay)],\n",
    "        \"weight_decay\": weight_decay,\n",
    "    },\n",
    "    {\n",
    "        \"params\": [p for n, p in model.named_parameters()\n",
    "                   if any(nd in n for nd in no_decay)],\n",
    "        \"weight_decay\": 0.0,\n",
    "    },\n",
    "]"
   ]
  },
  {
   "cell_type": "code",
   "execution_count": 11,
   "metadata": {},
   "outputs": [],
   "source": [
    "optimizer = AdamW(optimizer_grouped_parameters, lr=5e-5)"
   ]
  },
  {
   "cell_type": "code",
   "execution_count": 12,
   "metadata": {},
   "outputs": [
    {
     "data": {
      "text/plain": [
       "True"
      ]
     },
     "execution_count": 12,
     "metadata": {},
     "output_type": "execute_result"
    }
   ],
   "source": [
    "device = 0\n",
    "model.to(device)\n",
    "model.train()\n",
    "\n",
    "model.training"
   ]
  },
  {
   "cell_type": "code",
   "execution_count": 13,
   "metadata": {},
   "outputs": [],
   "source": [
    "for step, batch in enumerate(train_dataloader):  \n",
    "    optimizer.zero_grad()\n",
    "    outputs = model(**batch.to(device))\n",
    "    loss = outputs.loss\n",
    "    loss.backward()\n",
    "    optimizer.step()\n",
    "    \n",
    "    # stop after 10 steps for the demo:\n",
    "    if step > 10:\n",
    "        break"
   ]
  },
  {
   "cell_type": "markdown",
   "metadata": {},
   "source": [
    "## Evaluation"
   ]
  },
  {
   "cell_type": "code",
   "execution_count": 14,
   "metadata": {},
   "outputs": [],
   "source": [
    "metric = load_metric(\"rouge\")\n",
    "\n",
    "def postprocess_text(preds, labels):\n",
    "    preds = [pred.strip() for pred in preds]\n",
    "    labels = [label.strip() for label in labels]\n",
    "\n",
    "    # rougeLSum expects newline after each sentence\n",
    "    preds = [\"\\n\".join(nltk.sent_tokenize(pred)) for pred in preds]\n",
    "    labels = [\"\\n\".join(nltk.sent_tokenize(label)) for label in labels]\n",
    "\n",
    "    return preds, labels"
   ]
  },
  {
   "cell_type": "code",
   "execution_count": 15,
   "metadata": {},
   "outputs": [
    {
     "name": "stdout",
     "output_type": "stream",
     "text": [
      "pred: [\"apple's lawyers said they were willing to publish a clarification.\\nthe company does not\", 'no international side has toured Bangladesh since 20 people were killed in a siege in', 'the premier is in the country for a three-day visit.\\nhe is in', 'the subsea power hub (SPH) is being tested by Aberdeen based']\n",
      "labels: ['US technology firm Apple has offered to refund Australian customers who felt misled about the 4G capabilities of the new iPad.', \"England one-day captain Eoin Morgan and opening batsman Alex Hales have opted out of October's tour of Bangladesh because of security concerns.\", 'Irish Taoiseach (PM) Leo Varadkar has engaged in some \"sock diplomacy\" in his first meeting with Canadian Prime Minister Justin Trudeau in Dublin.', 'A new ocean current energy system has been successfully deployed, according to the company behind it.']\n",
      "\n",
      "pred: ['the last quarter saw insolvencies rise by 17.3% year-on-year to 2,8', \"china's pledge comes ahead of talks in Paris to seek a new global climate deal\", 'the van driver stopped on the crossing.', \"the pasty tax became synonymous with George Osborne's so-called Omnisham\"]\n",
      "labels: ['Scotland\\'s business minister has blamed \"continuing austerity\" for a sharp rise in personal insolvencies.', \"China - the world's largest emitter of greenhouse gases - has announced details of its climate action plan.\", 'Footage of a lorry overtaking a van on a level crossing in Lincolnshire has been released by British Transport Police.', 'Chancellor Philip Hammond may have set a record by scrapping a planned rise in National Insurance for the self-employed less than a week after announcing it - here are some other contenders for quickest political U-turn of recent times.']\n",
      "\n",
      "pred: ['fans, residents and club officials marched from lecky Road to Brandywell.', 'the first minister says the new structure after Brexit will give us the opportunity to follow UK priorities', 'the commons meets at 2.30 pm for Communities and Local Government questions.\\nthe rushing', 'Solomona scored 40 tries in the 2016 season.\\nthe 23-year-old was']\n",
      "labels: ['Derry City Football Club has held what it describes as \"a public act of defiance\" to show disapproval at attacks on visiting fans this season.', 'Alun Cairns has launched a fierce attack on the \"mismanagement\" of £4bn of EU grants by the Welsh Government intended to help the poorest areas.', \"It's the last rites of the 2015 Parliament - and in a frenzy of last minute deal-making, the legislation which can be completed will be rushed to the finishing line, while all manner of bills and other parliamentary business is dropped for lack of time.\", 'Castleford Tigers are to take legal action against winger Denny Solomona after he failed to return to the club for pre-season training.']\n",
      "\n",
      "pred: ['new law aims to catch those who put lives at risk while driving under the influence of drugs', 'former england striker Andy Garner says he was like a father figure', 'Stephen, 19, died on wednesday after a four-year battle with the disease', 'Christ Church University batsman Mike Rose was able to get off the mark against the club']\n",
      "labels: ['People who have been prescribed powerful anxiety or pain relief drugs are being warned about a new drug-driving law.', \"Derby County's longest-serving staff member Gordon Guthrie MBE, who spent more than 60 years with the club, has died at the age of 86.\", 'An appeal started by the cancer fundraiser Stephen Sutton has raised a further £400,000 - only a day after the teenager died.', 'A cricket team was bowled out for 0 in just 20 balls in a county six-a-side indoor championships match.']\n",
      "\n",
      "pred: ['the number of civilian casualties has risen year on year.\\nthe report blamed ground', 'Plaid Cymru AM Neil McEvoy is due to speak at a fringe', 'the president\\'s office says the bribes are \"a sham of an', 'vox popping in the Highland capital is a hazard of vox popping']\n",
      "labels: ['The number of people killed and wounded in conflict in Afghanistan rose in 2015 to the highest level yet recorded, the UN mission in the country says.', 'Plaid Cymru is \"actively considering\" whether to seek a coalition with Labour, leader Leanne Wood has said.', \"House Republicans have called FBI Director James Comey to testify about Hillary Clinton's use of private email as secretary of state.\", 'Their jackets were a giveaway.']\n",
      "\n",
      "pred: ['india accuses india of unprovoked firing in which four civilians died.', 'the project will see a plan to protect natural habitats and agricultural sites.\\norganiser', 'the 30-year-old has not played since a knee injury in february.', 'he has relegated the Dons to the premier league.\\nthe former Scotland']\n",
      "labels: ['At least five civilians were killed as India and Pakistan exchanged fire in the disputed Kashmir region, days after a meeting between leaders of the two countries in Russia.', 'A project to conserve a North East river catchment area has been awarded £223,000 of Lottery funding.', 'England captain and record goalscorer Wayne Rooney is confident he has \"a few years left\" at international level.', 'Craig Brown believes Aberdeen manager Derek McInnes is \"better than Sunderland\" and it would take \"an exceptional club\" to tempt him away.']\n",
      "\n",
      "pred: [\"south Thanet's MP Craig Mackinlay held his seat while facing a charge over\", 'IS was \"not an Afghan phenomenon\" and its atrocities had \"alienated the', 'solar Impulse is aiming to get to new york in the next couple of weeks.', 'the £21m road will link the west and east of the town.\\nit was supposed']\n",
      "labels: ['The Conservatives have held nearly all constituencies in Kent, where sitting MPs including cabinet member Greg Clark have kept their seats.', 'Afghan President Ashraf Ghani has promised to \"bury\" the so-called Islamic State (IS) militant group, whose local offshoot has clashed with government forces and Taliban fighters, in an exclusive interview.', 'Solar Impulse has landed in the US state of Ohio following the 12th stage of its circumnavigation of the globe.', 'The completion date for a new road in Taunton has been delayed.']\n",
      "\n",
      "pred: ['police have been called to the polling stations in the city.\\nthe 10 suspect votes were', 'former rebel leader says he will not be called president of the republic.\\nhe says', 'Ricci Gallagher, 46, died in hospital a week after being injured at the', 'nofa Mihlo Rafo was separated from her husband and two eld']\n",
      "labels: ['Officials at the referendum count in Glasgow have said they are investigating 10 cases of suspected electoral fraud at polling stations.', \"The Central African Republic's neighbours have agreed to send an extra 2,000 troops to help restore security following last month's rebel takeover.\", 'The widow of a man who died after being found injured at an ex-fashion executive\\'s home has said they had been \"excited\" about their move to the area.', 'Canada says it is aware of the case of a Yazidi boy recently rescued by Iraqi forces whose mother is in Winnipeg.']\n",
      "\n",
      "pred: ['a breakaway try from Charlie Hodgson gives the hosts a 13-3 lead', 'some candidates have been offering bribes of up to $1.3m (£1m', 'Cardiff Civic Society asks planning minister to \"call in\" a planning application.\\nthe', 'the Assembly Rooms was badly damaged in a huge blaze that broke out in its roof']\n",
      "labels: ['Saracens returned to the top of the Premiership table after securing a late bonus point in their win at Newcastle.', 'Massive cases of corruption and voter intimidation have marred the ongoing parliamentary elections in Somalia, the auditor general has told the BBC.', 'Permission for a new BBC Wales headquarters in Cardiff city centre should not be granted until plans for a new bus station are in place, a conservation group says.', 'The curtain is set to fall on a music venue in Derby where a host of famous acts have thrilled fans for decades.']\n",
      "\n",
      "pred: ['government has set no deadline for the plans but expects the NHS to be \"digital and', 'a new poll shows a comfortable lead in a three-way race.', 'the hoard was discovered by two metal detector enthusiasts in 2012. the value of the ho', 'police are treating the killings as a hate crime.\\nthe suspect is due to appear']\n",
      "labels: ['Free wi-fi is to be provided in all NHS buildings in a bid to improve services and reduce costs, Health Secretary Jeremy Hunt said.', 'For the past few weeks Donald Trump has been railing against what he calls a \"rigged\" and \"crooked\" Republican nomination process and silent efforts to deny him the party\\'s presidential bid.', 'The team removing coins from the Jersey Celtic hoard have gathered more than in any other British hoard to date.', \"The man suspected of shooting dead nine people at an African-American church in Charleston should face the death penalty if convicted, South Carolina's governor has said.\"]\n",
      "\n",
      "pred: ['archbishop Desmond Tutu says he is out fighting injustice again.', 'the international criminal court has charged Mr Kenyatta with crimes against humanity.\\nhe', \"Jardine was part of the Rangers' european cup-winning team of 1972.\", 'emergency services were called to the line near Stanford-le-Hope, Essex.\\nno']\n",
      "labels: ['\"I wanted to get an education but my parents were determined to marry me off,\" says Himanot Yehewala, an Ethiopian girl who was married five years ago at the age of 13.', \"Botswana's foreign minister has apologised for saying that Kenya's newly elected president would be banned from the southern African nation if he refuses to co-operate with the ICC.\", 'Former Rangers, Hearts and Scotland defender Sandy Jardine has died at the age of 65.', 'A motorist crashed through a fence and onto a train track, causing several hours of delays for passengers.']\n",
      "\n",
      "pred: [\"the women's tournament takes place on the first day of the women's tournament.\", 'the body of Alice, 14, was found in the River Brent in west London on 4 October', 'Fury, 27, beats Klitschko to win the IBF, WBA and', 'the first openly gay man to officiate at the highest level in the game was giving']\n",
      "labels: ['Rio 2016 officially gets under way with the opening ceremony on Friday - but did you know football kicks off the action two days earlier?', 'Charges would have been brought against Alice Gross murder suspect Arnis Zalkalns if he had lived, police say.', 'The Ring magazine has named world heavyweight champion Tyson Fury as its 2015 fighter of the year.', 'A zero tolerance policy is needed on homophobic online bullying, international rugby referee Nigel Owens has told MPs.']\n",
      "\n",
      "pred: ['a mudslide in the mountains in the town of Oso has', 'a \\'popular assembly\\' is a self-styled \"popular assembly\" in', 'labour lost more than 100 councillors in Wales, taking its tally down to 47', 'SOS Alerts is a service that can be used to alert people to affected locations']\n",
      "labels: ['Robin Youngblood will never forget the moment the mudslide hit.', 'Since the end of March, hundreds of people have been gathering every evening in the Place de la Republique in Paris.', 'Welsh Conservatives will benefit from a general election seen as a two party contest, a senior Tory has said.', 'Google has begun rounding up information about unfolding natural disasters, terrorism and other crises within its Search and Maps tools.']\n",
      "\n",
      "pred: ['the Millennium Villages project is a model for accelerating the end of global poverty.', 'the club said revenue fell year-on-year by more than 30% to £31.3m', \"AB InBev said it had approached SABMiller's board about a merger\", \"Turker Bayram's app was pulled from apple and google's stores after another developer\"]\n",
      "labels: ['As you climb up the winding reddish-coloured gravel road to Ruhiira - past endless dense plantations of matoke bananas - it can feel at first sight as if it is a world largely unchanged from when I was first working in Uganda close to 50 years ago.', 'Celtic have attributed a sharp fall in revenue and profits to their early exit from the UEFA Champions League.', \"The prospect of a tie-up between the world's two largest brewers is looming after Anheuser-Busch InBev said it had made a takeover move for SABMiller.\", 'The creator of an app that posted spam to peoples\\' Instagram accounts has said he made \"a terrible mistake\".']\n",
      "\n",
      "pred: ['the government said any decision should await a report written by the former bishop of Liverpool James Jones', 'the 28-year-old world record holder equalled the Olympic record.\\nhe', 'the park is expected to reopen to the public on Tuesday.', 'the board says men are \"better at controlling emotions\" and unlikely to take a has']\n",
      "labels: ['A decision on a \"Hillsborough Law\" to ensure legal funding for bereaved families at inquests where police are involved has been put on hold.', \"American Ashton Eaton has become the third man to retain the Olympic decathlon title, winning in Rio to emulate Great Britain's Daley Thompson, and the USA's Bob Mathias.\", 'Heavy rain and surface water flooding have forced a theme park in Lincolnshire to close.', 'Women\\'s groups and activists in India have criticised an influential Muslim group for saying that \"men have greater power of decision making\".']\n",
      "\n",
      "pred: ['Shaun McKerry tried to rob Shildon Post office in county Durham on 15', 'inspectors saw a pupil assaulting a teaching assistant who tried to stop a fight', 'seven people charged with stealing and conspiracy to steal a baby from the Komfo An', 'the mars 500 experiment will raise awareness of space flight.\\nthe aim of the experiment is to']\n",
      "labels: ['A serial criminal who was brought to the ground by the owner of a shop during a failed axe raid has been jailed for six years.', 'A school an Ofsted inspector once dubbed \"the worst she had seen\" is now rated good.', \"Ghana's health minister has given a hospital in the city of Kumasi 14 days to produce the bodies of five babies that were allegedly stillborn.\", 'There was all the pageantry of a real space launch.']\n",
      "\n",
      "pred: ['study found no significant differences in those taking folic acid.\\nit reduces the chances', 'owner Diego Lemos says \"unexpected cash flow problems\" prevented that happening.\\nthe 23', 'robots may become sentient and take over the world.\\none day robots may become', 'Wales thrashed 40-7 by the Chiefs on Tuesday and scored just one try']\n",
      "labels: ['Worries that taking extra folic acid might increase the risk of cancer have been played down by a major study.', 'League Two side Morecambe have confirmed that all players and staff have been paid after a delay.', 'A robot that can serve ice cream has been revealed at a shopping centre in China.', \"Wales coach Warren Gatland says his side must be better in attack in Saturday's game against world champions New Zealand in Wellington.\"]\n",
      "\n",
      "pred: ['Tammy Beaumont, 21, is in the winter tour squad to Bangladesh.\\nshe scored 1,', 'police say a number of weapons were found at the scene.\\nthree men, aged 32', 'Middlesex hope to have the Australian back for their first XI game against Hampshire', 'the teenager was pictured with Grande in 2015. she was described as \"beaut']\n",
      "labels: [\"Northamptonshire opener Ben Duckett has become the first cricketer to win the Professional Cricketers' Association Player of the Year and Young Player of the Year awards in the same year.\", 'Three men were stabbed during a fight involving 10 men and weapons including a knife, hammer and axe in Greater Manchester.', 'Middlesex batsman Adam Voges will be out until August after suffering a torn calf muscle in his right leg.', \"A devoted Ariana Grande fan died in the suicide bomb attack at the US singer's concert at Manchester Arena.\"]\n",
      "\n",
      "pred: ['author Chris Riddell says schools need funding via a central government grant.', 'the lawsuit argued that the opiate test in question had a far lower threshold than', 'the club was honoured by the Institute of Groundsmanship.\\nthe club beat 200', \"Flex is the latest concept in Esa's Earth Explorer series.\\nit will be launched\"]\n",
      "labels: [\"The children's laureate and eight well-known children's authors are calling on the education secretary to ensure school libraries are preserved.\", 'A US woman whose newborn was taken from her because she failed a hospital drug test after eating a poppy seed bagel has won a settlement, says her lawyer.', 'Forest Green Rovers Football Club has won an award for growing an \"organic\" pitch avoiding the use of chemicals.', \"The European Space Agency is going to build a spacecraft to map the red glow emitted by Earth's plants.\"]\n",
      "\n",
      "pred: ['Spratt, 25, joins on a one-year deal and Samson, 23,', 'muamba was a youngster and a former arsenal player.\\nhe was', 'the race in Austin, Texas, is the most controversial race in decades.\\nthe race is', 'the 31-year-old is worth at least £8m, according to a former']\n",
      "labels: ['London Irish have signed Ospreys centre Jonathan Spratt and Edinburgh Rugby scrum-half Ross Samson.', 'Former Bolton Wanderers midfielder Fabrice Muamba, who has been forced to retire from football, says he knows he is lucky to be alive.', \"This year's United States Grand Prix comes at a critical time for both Formula 1 and the host country.\", 'The sale by Cardiff City of captain David Marshall to Hull City has been described as \"a joke\" by former midfielder David Giles.']\n",
      "\n",
      "pred: ['Boudicca Scherazade, 47, allegedly became obsessed with Laurence Roche', 'the story was made up by Charles Lutwidge Dodgson to entertain children on', 'man tried to drive through Walcot Lane ford, in pershore, on Saturday morning', 'det Sgt Craig Warren said he was sent to the home of journalist Russell Find']\n",
      "labels: ['One of the stars of reality TV series Storage Hunters stalked a market trader for three years and bombarded him with explicit messages, a court heard.', \"A set of 10 stamps is being issued to mark the 150th anniversary of Lewis Carroll's Alice in Wonderland.\", 'A driver was taken to hospital after his car became \"completely submerged\" in a ford.', 'A court has heard traces of sulphuric acid were found at the scene of an alleged attack on a journalist.']\n",
      "\n",
      "{'rouge1': 15.2727, 'rouge2': 1.1354, 'rougeL': 12.2111, 'rougeLsum': 12.4053}\n"
     ]
    }
   ],
   "source": [
    "model.eval()\n",
    "\n",
    "gen_kwargs = {\n",
    "    \"max_length\": 128,   # args.val_max_target_length if args is not None else config.max_length,\n",
    "    \"num_beams\": None,   # args.num_beams,\n",
    "}\n",
    "for step, batch in enumerate(eval_dataloader):\n",
    "    if step > 20:\n",
    "        break\n",
    "\n",
    "    with torch.no_grad():\n",
    "        generated_tokens = model.generate(\n",
    "            batch[\"input_ids\"].to(device),\n",
    "            attention_mask=batch[\"attention_mask\"].to(device),\n",
    "            # **gen_kwargs,\n",
    "        )\n",
    "\n",
    "        labels = batch[\"labels\"]\n",
    "        generated_tokens = generated_tokens.cpu().numpy()\n",
    "        \n",
    "        labels = np.where(labels != -100, labels, tokenizer.pad_token_id)\n",
    "        if isinstance(generated_tokens, tuple):\n",
    "            generated_tokens = generated_tokens[0]\n",
    "\n",
    "        decoded_preds = tokenizer.batch_decode(generated_tokens, skip_special_tokens=True)\n",
    "        decoded_labels = tokenizer.batch_decode(labels, skip_special_tokens=True)\n",
    "\n",
    "        decoded_preds, decoded_labels = postprocess_text(decoded_preds, decoded_labels)\n",
    "        print('pred:', decoded_preds)\n",
    "        print('labels:', decoded_labels)\n",
    "        print('')\n",
    "\n",
    "        metric.add_batch(predictions=decoded_preds, references=decoded_labels)\n",
    "\n",
    "result = metric.compute(use_stemmer=True)\n",
    "# Extract a few results from ROUGE\n",
    "result = {key: value.mid.fmeasure * 100 for key, value in result.items()}\n",
    "\n",
    "result = {k: round(v, 4) for k, v in result.items()}\n",
    "\n",
    "print(result)"
   ]
  }
 ],
 "metadata": {
  "kernelspec": {
   "display_name": "deepspeed",
   "language": "python",
   "name": "deepspeed"
  },
  "language_info": {
   "codemirror_mode": {
    "name": "ipython",
    "version": 3
   },
   "file_extension": ".py",
   "mimetype": "text/x-python",
   "name": "python",
   "nbconvert_exporter": "python",
   "pygments_lexer": "ipython3",
   "version": "3.8.5"
  }
 },
 "nbformat": 4,
 "nbformat_minor": 4
}
